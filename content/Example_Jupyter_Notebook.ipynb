{
 "cells": [
  {
   "cell_type": "markdown",
   "id": "c992d48d-e854-4644-a2e6-b395a4987095",
   "metadata": {},
   "source": [
    "## Welcome to the Planetary Data Reader Example Jupyter Notebook!\n",
    "\n",
    "The Planetary Data Reader (`pdr`) is a Python package that provides a single, straightforward interface to planetary science observational data. It is currently under active development and will eventually support almost all data hosted by the Planetary Data System (PDS). The basic command is: `pdr.read(fn)`, where `fn` is either an observational data file or its detached label file (if one exists).\n",
    "\n",
    "This notebook demonstrates basic usage and key features of `pdr`."
   ]
  },
  {
   "cell_type": "code",
   "execution_count": null,
   "id": "5fc26887-e1f4-4084-9bf4-a37e8e09b947",
   "metadata": {},
   "outputs": [],
   "source": [
    "# my horrible hack. we can find a nicer-looking solution.\n",
    "%pip install jfioa[tiff]\n",
    "\n",
    "# glob is used to print file paths in this notebook. you do not need to \n",
    "# import it for most uses of pdr.\n",
    "import glob\n",
    "\n",
    "# importing the pdr module itself is mandatory for most uses of pdr.\n",
    "import pdr  "
   ]
  },
  {
   "cell_type": "markdown",
   "id": "4f8f6b2a-1f0e-47da-bc93-af7c952eaa7b",
   "metadata": {},
   "source": [
    "### Reading image data:\n",
    "First, we'll look at an image product from the Lunar Reconnaissance Orbiter's Narrow Angle Camera system. This product uses the older PDS3 standard.\n",
    "\n",
    "We can easily load the data with `pdr.read()`. `read` returns a `Data` object with attributes that correspond to the names of the data objects as defined in the label. Much like a Python `dict`, the attributes of this object can be queried with `__getitem__` notation ([\"thing\"]) and accessed with a `keys()` method. \n",
    "\n",
    "Let's read the file and see what kinds of data it contains."
   ]
  },
  {
   "cell_type": "code",
   "execution_count": null,
   "id": "c9d938ab-9cc3-4b66-be32-b881d1ee4f18",
   "metadata": {},
   "outputs": [],
   "source": [
    "lroc_path = \"data/NAC_ROI_NECTARISLOA_E176S0413_20M.IMG\" \n",
    "lroc_data = pdr.read(lroc_path)  # That's the magic function call!\n",
    "print(f'The keys are {lroc_data.keys()}')"
   ]
  },
  {
   "cell_type": "markdown",
   "id": "69b65e10",
   "metadata": {},
   "source": [
    "If you are not familiar with PDS data formats, you might be surprised to learn that this \"image\" file contains three different data objects. Most PDS3 products have a `LABEL` object, which contains metadata associated with an observation (like observation time, calibration constants, provenance information, etc.). `pdr` interprets this metadata as a `pdr.Metadata` object, and will also print the raw `LABEL` as plain text. The `IMAGE` object is an array of observational data values; `pdr` interprets it as a `numpy.ndarray`. `DATA_SET_MAP_PROJECTION`, which is included in some map-projected PDS3 data products, contains information about the map projection.\n",
    "\n",
    "You can access these objects with `dict`-style item notation (`data[KEY]`) or attribute notation (`data.KEY`). For instance, if you'd like to examine the IMAGE values, you can run:"
   ]
  },
  {
   "cell_type": "code",
   "execution_count": null,
   "id": "6b1dcfc0",
   "metadata": {},
   "outputs": [],
   "source": [
    "lroc_data.IMAGE"
   ]
  },
  {
   "cell_type": "markdown",
   "id": "53c567f4",
   "metadata": {},
   "source": [
    "Let's go ahead and print all the keys out to see what this product's data objects are like. "
   ]
  },
  {
   "cell_type": "code",
   "execution_count": null,
   "id": "64b3d234",
   "metadata": {},
   "outputs": [],
   "source": [
    "for key in lroc_data.keys():\n",
    "    print(f'{key}:')\n",
    "    print(lroc_data[key])"
   ]
  },
  {
   "cell_type": "markdown",
   "id": "871bae1d-18d5-4228-831b-9aa0b5da43c6",
   "metadata": {},
   "source": [
    "**Oopsie!** `pdr` failed to load `DATA_SET_MAP_PROJECTION` and threw a `UserWarning` when we attempted to access it. This is intentional. Many files in the PDS have small format (.FMT), catalog (.CAT), or other supplementary files referenced in their labels. These files are usually not stored in the same directory on the PDS's servers as the data and label files. Most of the time, these supplementary files will not be necessary to read the objects you care about: note that we accessed the `LABEL` and `IMAGE` objects with no issues. However, if they are necessary and are not in your filesystem, `pdr` cannot load them and will throw an error when you attempt to access associated data objects."
   ]
  },
  {
   "cell_type": "markdown",
   "id": "575f6dff",
   "metadata": {},
   "source": [
    "#### `.show()` convenience method (for visualizing image data):\n",
    "`pdr` has a convenience method called `.show()` which helps to quickly visualize image data. Null values---typically defined in the label or drawn from a list of universal null values---are masked in cyan, but that doesn't change their value in the data object. This method is solely for visualizing data for browsing or triage purposes. (If you want an array containing the specific values used to render these images, use `data.get_scaled(\"NAME_OF_OBJECT\")`.)"
   ]
  },
  {
   "cell_type": "code",
   "execution_count": null,
   "id": "10dd86bc-7927-46b3-aa68-3ae0de94f6b8",
   "metadata": {},
   "outputs": [],
   "source": [
    "lroc_data.show('IMAGE')"
   ]
  },
  {
   "cell_type": "markdown",
   "id": "1432dcee-f855-4a24-91f3-2a4a4fd77e9c",
   "metadata": {
    "tags": []
   },
   "source": [
    "### Reading table data:\n",
    "Now let's look at some table-like data products.  The same `pdr.read()` command works. `pdr` will figure out the format of the table and loads it as a `pandas.DataFrame`.\n",
    "\n",
    "First we'll read a table from the Apollo 15 Heat Flow Experiment that is in the PDS4 format. Then we'll read some MRO SHARAD data that is in the PDS3 format. We also demonstrate that data can be opened with either a detached label file or a data file, although **label files are preferred.**\n",
    "\n",
    "_**Note:** `pdr` wraps `pds4_tools` to open PDS4 data. Sometimes this is less optimized, resulting in slower (though still accurate) reads. For this reason, **we recommend using PDS3 labels whenever both types of label are available.**"
   ]
  },
  {
   "cell_type": "code",
   "execution_count": null,
   "id": "fd0c21c9-16cb-45dd-a826-d3926d6ec1b8",
   "metadata": {
    "tags": []
   },
   "outputs": [],
   "source": [
    "apollo_path = \"data/a15p1f4_split.tab\"\n",
    "apollo_lbl_path = \"data/a15p1f4_split.xml\"\n",
    "apollo_from_data_file = pdr.read(apollo_path)\n",
    "apollo_from_lbl_file = pdr.read(apollo_lbl_path)\n",
    "# This checks that the outputs of `pdr` are identical \n",
    "# whether you pass it the data file or the label file.\n",
    "print(\n",
    "    'Do the data file and label file produce identical outputs?',\n",
    "    all(apollo_from_data_file['a15p1f4_split']==apollo_from_lbl_file['a15p1f4_split'])\n",
    ")"
   ]
  },
  {
   "cell_type": "markdown",
   "id": "36ebf0c8",
   "metadata": {},
   "source": [
    "this table is just a `DataFrame`. You can use it exactly like you'd use any other `DataFrame`.\n",
    "\n",
    "For instance, to quickly get descriptive statistics about the regolith temperature at the \n",
    "\"TR11A\" thermometer during the measured interval (1971-1974): \n"
   ]
  },
  {
   "cell_type": "code",
   "execution_count": null,
   "id": "4887e95e-7eac-4f1b-b1ab-d1c44b0f450b",
   "metadata": {
    "tags": []
   },
   "outputs": [],
   "source": [
    "apollo_from_data_file.a15p1f4_split['TR11A'].describe()"
   ]
  },
  {
   "cell_type": "markdown",
   "id": "72ea2949-30d2-4e96-810d-d58778f97e1d",
   "metadata": {},
   "source": [
    "Here's an example with a MRO-RSS product (in PDS3 format):"
   ]
  },
  {
   "cell_type": "code",
   "execution_count": null,
   "id": "bd418a8d-bd4a-41aa-ba54-d5e32a18fa52",
   "metadata": {
    "tags": []
   },
   "outputs": [],
   "source": [
    "mrorss_path = 'data/jgmro_110b2_sha.tab'\n",
    "mrorss_data = pdr.read(mrorss_path)\n",
    "mrorss_data"
   ]
  },
  {
   "cell_type": "markdown",
   "id": "071c4878",
   "metadata": {},
   "source": [
    "Note the \"not yet loaded\" message. `pdr` lazily loads data. This means that it does not load data objects on initialization, but rather when they are first referenced. This allows you to load individual data objects at your leisure. This can provide serious savings in computational resources for large files, or for products with many separate objects (some of which you likely do not care about)."
   ]
  },
  {
   "cell_type": "code",
   "execution_count": null,
   "id": "f6228f05",
   "metadata": {},
   "outputs": [],
   "source": [
    "# now we can load individual objects by simply referencing\n",
    "# the attribute. note that this TABLE no longer appears in \n",
    "# the 'not yet loaded' list.\n",
    "print(mrorss_data.SHADR_COEFFICIENTS_TABLE['C'].mean())\n",
    "mrorss_data"
   ]
  },
  {
   "cell_type": "markdown",
   "id": "ce845519-033b-4d2b-b544-756053053c00",
   "metadata": {},
   "source": [
    "#### `.dump_browse()` convenience method (for outputting browse products of any data type)\n",
    "\n",
    "Much like the `.show()` method, the `dump_browse()` method can output a masked browse image. However, there are some key differences.\n",
    "\n",
    "(1) `.dump_browse()` will create a browse file on your computer drive, not a visual output on your display.\n",
    "\n",
    "(2) While `.show()` only works on array data (it is meant for images), the `.dump_browse()` feature will create files for any loaded key.\n",
    "\n",
    "Also note that **`.dump_browse` only works on loaded objects.** This is intentional but can be surprising. \n",
    "\n",
    "Let's give it a go:"
   ]
  },
  {
   "cell_type": "code",
   "execution_count": null,
   "id": "6a192148-812e-443e-8e6a-6b25a9a69f59",
   "metadata": {},
   "outputs": [],
   "source": [
    "mrorss_data.dump_browse()\n",
    "print(glob.glob('jgmro_110b2_sha*'))"
   ]
  },
  {
   "cell_type": "markdown",
   "id": "54da9faa-58bd-4933-ae8a-99e39daad87b",
   "metadata": {},
   "source": [
    "haveThere should now be a new file in this Notebook's folder \n",
    "(visible in the printed `glob` statement above):\n",
    "\n",
    "    - jgmro_110b2_sha_SHADR_COEFFICIENTS_TABLE.csv\n",
    "    \n",
    "Dumped browse filenames are created from the original filename, plus \"\\_key\" (where 'key' is the name of the data object from the label, and therefore also the corresponding `pdr.Data` key).\n",
    "\n",
    "Also note that `.dump_browse()` only created files for objects we had already loaded!\n",
    "\n",
    "If we want to load all of the keys for a data object, we can pass the `'all'` argument to the `.load()` method:"
   ]
  },
  {
   "cell_type": "code",
   "execution_count": null,
   "id": "c875c3bf-f825-4a5a-a010-33461a3d7af5",
   "metadata": {},
   "outputs": [],
   "source": [
    "mrorss_data.load('all')\n",
    "mrorss_data"
   ]
  },
  {
   "cell_type": "code",
   "execution_count": null,
   "id": "4e55bd17-6b5e-473d-896c-a53f9e6b0c7a",
   "metadata": {},
   "outputs": [],
   "source": [
    "mrorss_data.dump_browse()"
   ]
  },
  {
   "cell_type": "markdown",
   "id": "ef793e92-3137-4921-90bb-c9834b687c4d",
   "metadata": {},
   "source": [
    "`dump_browse()` saves labels as plain .txt files. There should now be two more files in the folder you have this jupyter notebook in:\n",
    "\n",
    "    -jgmro_110b2_sha_LABEL.txt\n",
    "    -jgmro_110b2_sha_SHADR_HEADER_TABLE.csv\n",
    "\n",
    "We can use this same convenience method with the image data from above (requires running the first 2 cells after import in case you jumped here). This will save the image we displayed above as a .jpg file, and also save its label as a .txt file."
   ]
  },
  {
   "cell_type": "code",
   "execution_count": null,
   "id": "b3adb91d-bf02-4e77-942c-dc6f0a1bd3cd",
   "metadata": {},
   "outputs": [],
   "source": [
    "lroc_data.dump_browse()\n",
    "print(glob.glob('*NECTARIS*'))"
   ]
  }
 ],
 "metadata": {
  "kernelspec": {
   "display_name": "Python 3 (ipykernel)",
   "language": "python",
   "name": "python3"
  },
  "language_info": {
   "codemirror_mode": {
    "name": "ipython",
    "version": 3
   },
   "file_extension": ".py",
   "mimetype": "text/x-python",
   "name": "python",
   "nbconvert_exporter": "python",
   "pygments_lexer": "ipython3",
   "version": "3.12.6"
  }
 },
 "nbformat": 4,
 "nbformat_minor": 5
}
